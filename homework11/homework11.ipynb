{
 "cells": [
  {
   "cell_type": "code",
   "execution_count": 10,
   "id": "786cc71b",
   "metadata": {},
   "outputs": [
    {
     "data": {
      "text/plain": [
       "[-5/54 + (-1/2 - sqrt(3)*I/2)*(135145/157464 + 5*sqrt(252411)/2916)**(1/3) - 515/(2916*(-1/2 - sqrt(3)*I/2)*(135145/157464 + 5*sqrt(252411)/2916)**(1/3)),\n",
       " -5/54 - 515/(2916*(-1/2 + sqrt(3)*I/2)*(135145/157464 + 5*sqrt(252411)/2916)**(1/3)) + (-1/2 + sqrt(3)*I/2)*(135145/157464 + 5*sqrt(252411)/2916)**(1/3),\n",
       " -515/(2916*(135145/157464 + 5*sqrt(252411)/2916)**(1/3)) - 5/54 + (135145/157464 + 5*sqrt(252411)/2916)**(1/3)]"
      ]
     },
     "execution_count": 10,
     "metadata": {},
     "output_type": "execute_result"
    }
   ],
   "source": [
    "from sympy import Symbol, solve, diff, plot, N\n",
    "\n",
    "x = Symbol('x')\n",
    "equation = 18*x**3 + 5*x**2 + 10*x - 30\n",
    "\n",
    "# 1. Определить корни\n",
    "\n",
    "solutions = solve(equation)\n",
    "solutions"
   ]
  },
  {
   "cell_type": "code",
   "execution_count": 18,
   "id": "23e706a9",
   "metadata": {},
   "outputs": [
    {
     "data": {
      "text/plain": [
       "[-0.61792690821596 - 1.16523123046927*I,\n",
       " -0.61792690821596 + 1.16523123046927*I,\n",
       " 0.958076038654142]"
      ]
     },
     "execution_count": 18,
     "metadata": {},
     "output_type": "execute_result"
    }
   ],
   "source": [
    "# Примерные значения корней\n",
    "\n",
    "list(map(N, solutions))"
   ]
  },
  {
   "cell_type": "code",
   "execution_count": 3,
   "id": "0b041e65",
   "metadata": {},
   "outputs": [
    {
     "data": {
      "text/latex": [
       "$\\displaystyle -\\infty < x \\wedge x < \\infty$"
      ],
      "text/plain": [
       "(-oo < x) & (x < oo)"
      ]
     },
     "execution_count": 3,
     "metadata": {},
     "output_type": "execute_result"
    }
   ],
   "source": [
    "# 2. Найти интервалы, на которых функция возрастает\n",
    "\n",
    "solve(diff(equation) > 0) # участок, на котором ф-ция возрастает"
   ]
  },
  {
   "cell_type": "code",
   "execution_count": 4,
   "id": "8a074509",
   "metadata": {},
   "outputs": [
    {
     "data": {
      "text/latex": [
       "$\\displaystyle \\text{False}$"
      ],
      "text/plain": [
       "False"
      ]
     },
     "execution_count": 4,
     "metadata": {},
     "output_type": "execute_result"
    }
   ],
   "source": [
    "# 3. Найти интервалы, на которых функция убывает\n",
    "\n",
    "solve(diff(equation) < 0) # участок, на котором ф-ция убывает"
   ]
  },
  {
   "cell_type": "code",
   "execution_count": 17,
   "id": "dda1f1af",
   "metadata": {},
   "outputs": [
    {
     "name": "stdout",
     "output_type": "stream",
     "text": [
      "  19000 |                                                      /\n",
      "        |                                                     / \n",
      "        |                                                    /  \n",
      "        |                                                   /   \n",
      "        |                                                  /    \n",
      "        |                                                 /     \n",
      "        |                                               ..      \n",
      "        |                                             ..        \n",
      "        |                                           ..          \n",
      "        |                                       ....            \n",
      "    500 |--------------------...................----------------\n",
      "        |              ......                                   \n",
      "        |           ...                                         \n",
      "        |         ..                                            \n",
      "        |       ..                                              \n",
      "        |     ..                                                \n",
      "        |    /                                                  \n",
      "        |   /                                                   \n",
      "        |  /                                                    \n",
      "        | /                                                     \n",
      " -18000 |_______________________________________________________\n",
      "         -10                        0                          10\n"
     ]
    }
   ],
   "source": [
    "# 4. Построить график\n",
    "\n",
    "plot(equation, show=False).show()"
   ]
  },
  {
   "cell_type": "code",
   "execution_count": 6,
   "id": "87fd95dc",
   "metadata": {},
   "outputs": [],
   "source": [
    "# 5. Вычислить вершину\n",
    "\n",
    "# у ф-ции нет вершины, т.к. она возрастает на всей числовой оси"
   ]
  },
  {
   "cell_type": "code",
   "execution_count": 7,
   "id": "04ce840f",
   "metadata": {},
   "outputs": [
    {
     "data": {
      "text/latex": [
       "$\\displaystyle x < \\infty \\wedge \\operatorname{CRootOf} {\\left(18 x^{3} + 5 x^{2} + 10 x - 30, 0\\right)} < x$"
      ],
      "text/plain": [
       "(x < oo) & (CRootOf(18*x**3 + 5*x**2 + 10*x - 30, 0) < x)"
      ]
     },
     "execution_count": 7,
     "metadata": {},
     "output_type": "execute_result"
    }
   ],
   "source": [
    "# 6. Определить промежутки, на котором f > 0\n",
    "\n",
    "solve(equation > 0) # CRootOf(18𝑥3+5𝑥2+10𝑥−30,0), очевидно, является единственным не комплексным корнем уравнения"
   ]
  },
  {
   "cell_type": "code",
   "execution_count": 8,
   "id": "9fa9e10b",
   "metadata": {},
   "outputs": [
    {
     "data": {
      "text/latex": [
       "$\\displaystyle -\\infty < x \\wedge x < \\operatorname{CRootOf} {\\left(18 x^{3} + 5 x^{2} + 10 x - 30, 0\\right)}$"
      ],
      "text/plain": [
       "(-oo < x) & (x < CRootOf(18*x**3 + 5*x**2 + 10*x - 30, 0))"
      ]
     },
     "execution_count": 8,
     "metadata": {},
     "output_type": "execute_result"
    }
   ],
   "source": [
    "# 7. Определить промежутки, на котором f < 0\n",
    "\n",
    "solve(equation < 0)"
   ]
  }
 ],
 "metadata": {
  "kernelspec": {
   "display_name": "Python 3.10.7 64-bit",
   "language": "python",
   "name": "python3"
  },
  "language_info": {
   "codemirror_mode": {
    "name": "ipython",
    "version": 3
   },
   "file_extension": ".py",
   "mimetype": "text/x-python",
   "name": "python",
   "nbconvert_exporter": "python",
   "pygments_lexer": "ipython3",
   "version": "3.10.7"
  },
  "vscode": {
   "interpreter": {
    "hash": "7b82f262bd0ef8cfefb55247b2a788ea0ee888beb70bf834b1cba5ecb1fd0df6"
   }
  }
 },
 "nbformat": 4,
 "nbformat_minor": 5
}
